{
 "cells": [
  {
   "cell_type": "markdown",
   "id": "2ca985ef",
   "metadata": {},
   "source": [
    "# Exercício 9\n",
    "\n",
    "9. resolva uma equa¸c˜ao do segundo grau.\n"
   ]
  },
  {
   "cell_type": "code",
   "execution_count": 4,
   "id": "f2c8153b",
   "metadata": {},
   "outputs": [],
   "source": [
    "# Atribuição de variáveis\n",
    "\n"
   ]
  },
  {
   "cell_type": "code",
   "execution_count": 10,
   "id": "9d0bfb65",
   "metadata": {},
   "outputs": [
    {
     "name": "stdout",
     "output_type": "stream",
     "text": [
      "Qual é o coeficiente a? 2\n",
      "Qual é o coeficiente b? 3\n",
      "Qual é o coeficiente c? 7\n"
     ]
    }
   ],
   "source": [
    "# Entrada de dados\n",
    "\n",
    "a = float(input(\"Qual é o coeficiente a? \"))\n",
    "\n",
    "b = float(input(\"Qual é o coeficiente b? \"))\n",
    "\n",
    "c = float(input(\"Qual é o coeficiente c? \"))\n"
   ]
  },
  {
   "cell_type": "code",
   "execution_count": 12,
   "id": "aeee030f",
   "metadata": {},
   "outputs": [],
   "source": [
    "# Processamento de dados\n",
    "\n",
    "x1 = -b + ((b)**(2) - 4*a*c)**(1/2)\n",
    "x2 = -b - ((b)**(2) - 4*a*c)**(1/2)"
   ]
  },
  {
   "cell_type": "code",
   "execution_count": 13,
   "id": "780f820d",
   "metadata": {},
   "outputs": [
    {
     "name": "stdout",
     "output_type": "stream",
     "text": [
      "(-2.9999999999999996+6.855654600401044j)\n",
      "(-3.0000000000000004-6.855654600401044j)\n"
     ]
    }
   ],
   "source": [
    "# Saída de dados\n",
    "\n",
    "print(x1)\n",
    "print(x2)"
   ]
  },
  {
   "cell_type": "code",
   "execution_count": null,
   "id": "a745ea93",
   "metadata": {},
   "outputs": [],
   "source": []
  }
 ],
 "metadata": {
  "kernelspec": {
   "display_name": "Python 3 (ipykernel)",
   "language": "python",
   "name": "python3"
  },
  "language_info": {
   "codemirror_mode": {
    "name": "ipython",
    "version": 3
   },
   "file_extension": ".py",
   "mimetype": "text/x-python",
   "name": "python",
   "nbconvert_exporter": "python",
   "pygments_lexer": "ipython3",
   "version": "3.10.9"
  }
 },
 "nbformat": 4,
 "nbformat_minor": 5
}
